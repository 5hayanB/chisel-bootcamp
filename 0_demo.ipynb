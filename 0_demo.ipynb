{
 "cells": [
  {
   "cell_type": "markdown",
   "metadata": {},
   "source": [
    "<a name=\"top\"></a><img src=\"images/chisel_1024.png\" alt=\"Chisel logo\" style=\"width:480px;\" />"
   ]
  },
  {
   "cell_type": "markdown",
   "metadata": {
    "collapsed": true
   },
   "source": [
    "# Chisel Demo\n",
    "**Next: [Introduction to Scala](1_intro_to_scala.ipynb)**\n",
    "\n",
    "## Motivation\n",
    "Perhaps you're an interested student who heard the name \"Chisel\" tossed about, or maybe you're a seasoned hardware design veteran who has been tasked by your manager to explore Chisel as a new HDL alternative. Either way if you are new to Chisel, you want to figure out as fast as possible what all the fuss is about. Look no futher - let's see what Chisel has to offer!"
   ]
  },
  {
   "cell_type": "markdown",
   "metadata": {},
   "source": [
    "## Setup\n",
    "The following cell downloads the dependencies needed for Chisel. You will see it in all future notebooks. **Run this cell now**."
   ]
  },
  {
   "cell_type": "code",
   "execution_count": null,
   "metadata": {},
   "outputs": [],
   "source": [
    "val path = System.getProperty(\"user.dir\") + \"/source/load-ivy.sc\"\n",
    "interp.load.module(ammonite.ops.Path(java.nio.file.FileSystems.getDefault().getPath(path)))"
   ]
  },
  {
   "cell_type": "markdown",
   "metadata": {},
   "source": [
    "These statements are needed to import Chisel. **Run this cell now** before running any future code blocks."
   ]
  },
  {
   "cell_type": "code",
   "execution_count": null,
   "metadata": {},
   "outputs": [],
   "source": [
    "import chisel3._\n",
    "import chisel3.util._\n",
    "import chisel3.iotesters.{ChiselFlatSpec, Driver, PeekPokeTester}"
   ]
  },
  {
   "cell_type": "markdown",
   "metadata": {},
   "source": [
    "# Bringing the Power of Parameterizability and Abstraction to Digital Design\n",
    "\n",
    "Chisel is powered by [FIRRTL (Flexible Intermediate Representation for RTL)](https://github.com/freechipsproject/firrtl), a hardware compiler framework that performs optimizations of Chisel-generated circuits and supports custom user-defined circuit transformations.\n",
    "\n",
    "## What does Chisel code look like?\n",
    "\n",
    "Consider an FIR filter that implements a convolution operation, as depicted in this block diagram:\n",
    "\n",
    "<img src=\"https://raw.githubusercontent.com/freechipsproject/chisel3/master/doc/images/fir_filter.svg?sanitize=true\" width=\"512\" />\n",
    "\n",
    "While Chisel provides similar base primitives as synthesizable Verilog, and *could* be used as such:\n",
    ">The RegNext create registers whose inputs are connected to the argument."
   ]
  },
  {
   "cell_type": "code",
   "execution_count": null,
   "metadata": {},
   "outputs": [],
   "source": [
    "// 3-point moving average implemented in the style of a FIR filter\n",
    "class MovingAverage3(bitWidth: Int) extends Module {\n",
    "  val io = IO(new Bundle {\n",
    "    val in = Input(UInt(bitWidth.W))\n",
    "    val out = Output(UInt(bitWidth.W))\n",
    "  })\n",
    "\n",
    "  val z1 = RegNext(io.in)\n",
    "  val z2 = RegNext(z1)\n",
    "\n",
    "  io.out := (io.in * 1.U) + (z1 * 1.U) + (z2 * 1.U)\n",
    "}"
   ]
  },
  {
   "cell_type": "markdown",
   "metadata": {},
   "source": [
    "By running the previous cell we have created a Scala class. Every time we create an instance of that class we will be generating the hardware that implements the function. Let's take a look at the structure of it"
   ]
  },
  {
   "cell_type": "code",
   "execution_count": null,
   "metadata": {
    "scrolled": true
   },
   "outputs": [],
   "source": [
    "// same 3-point moving average filter as before\n",
    "visualize(() => new MovingAverage3(8))"
   ]
  },
  {
   "cell_type": "markdown",
   "metadata": {},
   "source": [
    "You can see the inputs on the left, and the z1 and z2 registers. Each them and io_in are multiplied by the coefficients and which are then added successively. The tail elements are used to keep the additions from growing."
   ]
  },
  {
   "cell_type": "markdown",
   "metadata": {},
   "source": [
    "But the real power of Chisel comes from the ability to create generators, such as n FIR filter that is defined by the list of coefficients. Below we have rewritten MovingAverage to pass into a sequence of coefficients. The number of coefficients will determine the size of the filter."
   ]
  },
  {
   "cell_type": "code",
   "execution_count": null,
   "metadata": {},
   "outputs": [],
   "source": [
    "// Generalized FIR filter parameterized by the convolution coefficients\n",
    "class FirFilter(bitWidth: Int, coeffs: Seq[UInt]) extends Module {\n",
    "  val io = IO(new Bundle {\n",
    "    val in = Input(UInt(bitWidth.W))\n",
    "    val out = Output(UInt(bitWidth.W))\n",
    "  })\n",
    "  // Create the serial-in, parallel-out shift register\n",
    "  val zs = Reg(Vec(coeffs.length, UInt(bitWidth.W)))\n",
    "  zs(0) := io.in\n",
    "  for (i <- 1 until coeffs.length) {\n",
    "    zs(i) := zs(i-1)\n",
    "  }\n",
    "\n",
    "  // Do the multiplies\n",
    "  val products = VecInit.tabulate(coeffs.length)(i => zs(i) * coeffs(i))\n",
    "\n",
    "  // Sum up the products\n",
    "  io.out := products.reduce(_ + _)\n",
    "}"
   ]
  },
  {
   "cell_type": "markdown",
   "metadata": {},
   "source": [
    "and use and re-use them across designs:"
   ]
  },
  {
   "cell_type": "code",
   "execution_count": null,
   "metadata": {},
   "outputs": [],
   "source": [
    "// same 3-point moving average filter as before\n",
    "visualize(() => new FirFilter(8, Seq(1.U, 1.U, 1.U)))\n",
    "println(getVerilog(new FirFilter(8, Seq(1.U, 1.U, 1.U))))"
   ]
  },
  {
   "cell_type": "code",
   "execution_count": null,
   "metadata": {},
   "outputs": [],
   "source": [
    "// 1-cycle delay as a FIR filter\n",
    "visualize(() => new FirFilter(8, Seq(0.U, 1.U)))"
   ]
  },
  {
   "cell_type": "code",
   "execution_count": null,
   "metadata": {},
   "outputs": [],
   "source": [
    "// 5-point FIR filter with a triangle impulse response\n",
    "visualize(() => new FirFilter(8, Seq(1.U, 2.U, 3.U, 2.U, 1.U)))"
   ]
  },
  {
   "cell_type": "markdown",
   "metadata": {},
   "source": [
    "# Transforming Designs"
   ]
  },
  {
   "cell_type": "markdown",
   "metadata": {
    "collapsed": true
   },
   "source": [
    "# Visualizing Designs"
   ]
  },
  {
   "cell_type": "markdown",
   "metadata": {},
   "source": [
    "---\n",
    "# You're done!\n",
    "\n",
    "[Return to the top.](#top)"
   ]
  }
 ],
 "metadata": {
  "anaconda-cloud": {},
  "kernelspec": {
   "display_name": "Scala",
   "language": "scala",
   "name": "scala"
  },
  "language_info": {
   "codemirror_mode": "text/x-scala",
   "file_extension": ".scala",
   "mimetype": "text/x-scala",
   "name": "scala",
   "nbconvert_exporter": "script",
   "version": "2.12.8"
  }
 },
 "nbformat": 4,
 "nbformat_minor": 2
}
